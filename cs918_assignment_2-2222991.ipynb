{
 "cells": [
  {
   "cell_type": "markdown",
   "metadata": {},
   "source": [
    "# Assignment Two:  Sentiment Classification\n",
    "\n",
    "For this exercise you will be using the \"SemEval 2017 task 4\" corpus provided on the module website, available through the following link: https://warwick.ac.uk/fac/sci/dcs/teaching/material/cs918/semeval-tweets.tar.bz2 You will focus particularly on Subtask A, i.e. classifying the overall sentiment of a tweet as positive, negative or neutral.\n",
    "\n",
    "You are requested to produce a Jupyter notebook for the coursework submission. The input to your program is the SemEval data downloaded. Note that TAs need to run your program on their own machine by using the original SemEval data. As such, don’t submit a Python program that takes as input some preprocessed files."
   ]
  },
  {
   "cell_type": "markdown",
   "metadata": {},
   "source": [
    "#### Import necessary packages\n",
    "You may import more packages here."
   ]
  },
  {
   "cell_type": "code",
   "execution_count": 1,
   "metadata": {},
   "outputs": [],
   "source": [
    "# Import necessary packages\n",
    "import re\n",
    "from os.path import join\n",
    "import numpy as np\n",
    "\n",
    "import random\n",
    "\n",
    "import nltk\n",
    "#nltk.download('wordnet')\n",
    "#nltk.download('averaged_perceptron_tagger')\n",
    "#nltk.download('punkt')\n",
    "#nltk.download('stopwords')\n",
    "from nltk.tokenize import word_tokenize\n",
    "from nltk import pos_tag\n",
    "from nltk.corpus import wordnet, stopwords\n",
    "from nltk.stem import WordNetLemmatizer\n",
    "from nltk.tokenize import TweetTokenizer\n",
    "import contractions\n",
    "\n",
    "from sklearn.model_selection import train_test_split, GridSearchCV\n",
    "from sklearn.feature_extraction.text import TfidfVectorizer, CountVectorizer\n",
    "from sklearn.svm import SVC, LinearSVC\n",
    "from sklearn.pipeline import Pipeline\n",
    "from sklearn.metrics import classification_report\n",
    "\n",
    "from sklearn.feature_extraction.text import TfidfVectorizer\n",
    "\n",
    "from sklearn.naive_bayes import MultinomialNB\n",
    "\n",
    "from sklearn.linear_model import LogisticRegression\n",
    "\n",
    "from tqdm import tqdm\n",
    "import time\n",
    "\n",
    "import torch\n",
    "import torch.nn as nn\n",
    "import torch.optim as optim\n",
    "from torch.utils.data import Dataset, DataLoader\n",
    "from torchvision import transforms\n",
    "\n",
    "import matplotlib.pyplot as plt\n",
    "\n",
    "from collections import Counter\n",
    "\n",
    "import demoji\n",
    "\n",
    "from tensorflow.keras.preprocessing.sequence import pad_sequences\n",
    "\n",
    "from transformers import pipeline, set_seed"
   ]
  },
  {
   "cell_type": "code",
   "execution_count": 2,
   "metadata": {},
   "outputs": [
    {
     "name": "stdout",
     "output_type": "stream",
     "text": [
      "Using device: cuda\n"
     ]
    }
   ],
   "source": [
    "# device setting\n",
    "device = torch.device('cuda' if torch.cuda.is_available() else 'cpu')\n",
    "print('Using device:', device)"
   ]
  },
  {
   "cell_type": "code",
   "execution_count": 3,
   "metadata": {},
   "outputs": [],
   "source": [
    "# Define test sets\n",
    "testsets = ['twitter-test1.txt', 'twitter-test2.txt', 'twitter-test3.txt']"
   ]
  },
  {
   "cell_type": "code",
   "execution_count": 4,
   "metadata": {},
   "outputs": [],
   "source": [
    "# Skeleton: Evaluation code for the test sets\n",
    "def read_test(testset):\n",
    "    '''\n",
    "    readin the testset and return a dictionary\n",
    "    :param testset: str, the file name of the testset to compare\n",
    "    '''\n",
    "    id_gts = {}\n",
    "    with open(testset, 'r', encoding='utf8') as fh:\n",
    "        for line in fh:\n",
    "            fields = line.split('\\t')\n",
    "            tweetid = fields[0]\n",
    "            gt = fields[1]\n",
    "\n",
    "            id_gts[tweetid] = gt\n",
    "\n",
    "    return id_gts\n",
    "\n",
    "\n",
    "def confusion(id_preds, testset, classifier):\n",
    "    '''\n",
    "    print the confusion matrix of {'positive', 'netative'} between preds and testset\n",
    "    :param id_preds: a dictionary of predictions formated as {<tweetid>:<sentiment>, ... }\n",
    "    :param testset: str, the file name of the testset to compare\n",
    "    :classifier: str, the name of the classifier\n",
    "    '''\n",
    "    #id_gts = read_test(testset)\n",
    "    file_path = join(folder_path, testset)\n",
    "    id_gts = read_test(file_path)\n",
    "\n",
    "    gts = []\n",
    "    for m, c1 in id_gts.items():\n",
    "        if c1 not in gts:\n",
    "            gts.append(c1)\n",
    "\n",
    "    gts = ['positive', 'negative', 'neutral']\n",
    "\n",
    "    conf = {}\n",
    "    for c1 in gts:\n",
    "        conf[c1] = {}\n",
    "        for c2 in gts:\n",
    "            conf[c1][c2] = 0\n",
    "\n",
    "    for tweetid, gt in id_gts.items():\n",
    "        if tweetid in id_preds:\n",
    "            pred = id_preds[tweetid]\n",
    "        else:\n",
    "            pred = 'neutral'\n",
    "        conf[pred][gt] += 1\n",
    "\n",
    "    print(''.ljust(12) + '  '.join(gts))\n",
    "\n",
    "    for c1 in gts:\n",
    "        print(c1.ljust(12), end='')\n",
    "        for c2 in gts:\n",
    "            if sum(conf[c1].values()) > 0:\n",
    "                print('%.3f     ' % (conf[c1][c2] / float(sum(conf[c1].values()))), end='')\n",
    "            else:\n",
    "                print('0.000     ', end='')\n",
    "        print('')\n",
    "\n",
    "    print('')\n",
    "\n",
    "\n",
    "def evaluate(id_preds, testset, classifier):\n",
    "    '''\n",
    "    print the macro-F1 score of {'positive', 'netative'} between preds and testset\n",
    "    :param id_preds: a dictionary of predictions formated as {<tweetid>:<sentiment>, ... }\n",
    "    :param testset: str, the file name of the testset to compare\n",
    "    :classifier: str, the name of the classifier\n",
    "    '''\n",
    "    id_gts = read_test(testset)\n",
    "\n",
    "    acc_by_class = {}\n",
    "    for gt in ['positive', 'negative', 'neutral']:\n",
    "        acc_by_class[gt] = {'tp': 0, 'fp': 0, 'tn': 0, 'fn': 0}\n",
    "\n",
    "    catf1s = {}\n",
    "\n",
    "    ok = 0\n",
    "    for tweetid, gt in id_gts.items():\n",
    "        if tweetid in id_preds:\n",
    "            pred = id_preds[tweetid]\n",
    "        else:\n",
    "            pred = 'neutral'\n",
    "\n",
    "        if gt == pred:\n",
    "            ok += 1\n",
    "            acc_by_class[gt]['tp'] += 1\n",
    "        else:\n",
    "            acc_by_class[gt]['fn'] += 1\n",
    "            acc_by_class[pred]['fp'] += 1\n",
    "\n",
    "    catcount = 0\n",
    "    itemcount = 0\n",
    "    macro = {'p': 0, 'r': 0, 'f1': 0}\n",
    "    micro = {'p': 0, 'r': 0, 'f1': 0}\n",
    "    semevalmacro = {'p': 0, 'r': 0, 'f1': 0}\n",
    "\n",
    "    microtp = 0\n",
    "    microfp = 0\n",
    "    microtn = 0\n",
    "    microfn = 0\n",
    "    for cat, acc in acc_by_class.items():\n",
    "        catcount += 1\n",
    "\n",
    "        microtp += acc['tp']\n",
    "        microfp += acc['fp']\n",
    "        microtn += acc['tn']\n",
    "        microfn += acc['fn']\n",
    "\n",
    "        p = 0\n",
    "        if (acc['tp'] + acc['fp']) > 0:\n",
    "            p = float(acc['tp']) / (acc['tp'] + acc['fp'])\n",
    "\n",
    "        r = 0\n",
    "        if (acc['tp'] + acc['fn']) > 0:\n",
    "            r = float(acc['tp']) / (acc['tp'] + acc['fn'])\n",
    "\n",
    "        f1 = 0\n",
    "        if (p + r) > 0:\n",
    "            f1 = 2 * p * r / (p + r)\n",
    "\n",
    "        catf1s[cat] = f1\n",
    "\n",
    "        n = acc['tp'] + acc['fn']\n",
    "\n",
    "        macro['p'] += p\n",
    "        macro['r'] += r\n",
    "        macro['f1'] += f1\n",
    "\n",
    "        if cat in ['positive', 'negative']:\n",
    "            semevalmacro['p'] += p\n",
    "            semevalmacro['r'] += r\n",
    "            semevalmacro['f1'] += f1\n",
    "\n",
    "        itemcount += n\n",
    "\n",
    "    micro['p'] = float(microtp) / float(microtp + microfp)\n",
    "    micro['r'] = float(microtp) / float(microtp + microfn)\n",
    "    micro['f1'] = 2 * float(micro['p']) * micro['r'] / float(micro['p'] + micro['r'])\n",
    "\n",
    "    semevalmacrof1 = semevalmacro['f1'] / 2\n",
    "\n",
    "    print(testset + ' (' + classifier + '): %.3f' % semevalmacrof1)"
   ]
  },
  {
   "cell_type": "markdown",
   "metadata": {},
   "source": [
    "#### Load training set, dev set and testing set\n",
    "Here, you need to load the training set, the development set and the test set. For better classification results, you may need to preprocess tweets before sending them to the classifiers."
   ]
  },
  {
   "cell_type": "code",
   "execution_count": 5,
   "metadata": {},
   "outputs": [],
   "source": [
    "# Load training set, dev set and testing set\n",
    "data = {}\n",
    "tweetids = {}\n",
    "tweetgts = {}\n",
    "tweets = {}\n",
    "\n",
    "folder_path = 'semeval-tweets'\n",
    "\n",
    "for dataset in ['twitter-training-data.txt'] + ['twitter-dev-data.txt'] + testsets: # With dev-data set\n",
    "    data[dataset] = []\n",
    "    tweets[dataset] = []\n",
    "    tweetids[dataset] = []\n",
    "    tweetgts[dataset] = []\n",
    "\n",
    "    # write code to read in the datasets here\n",
    "    file_path = join(folder_path, dataset)\n",
    "    \n",
    "    with open(file_path, 'r', encoding='utf-8') as file:\n",
    "        for line in file:\n",
    "            # Split the line into parts using tab as the delimiter\n",
    "            parts = line.strip().split('\\t')\n",
    "            \n",
    "            # Ensure the line has 3 parts: tweet-id, sentiment, tweet-text\n",
    "            if len(parts) == 3:\n",
    "                tweet_id, sentiment, tweet_text = parts\n",
    "                \n",
    "                # Append the whole line to data\n",
    "                data[dataset].append(line.strip())\n",
    "                \n",
    "                # Append individual parts to their respective lists\n",
    "                tweetids[dataset].append(tweet_id)\n",
    "                tweetgts[dataset].append(sentiment)\n",
    "                tweets[dataset].append(tweet_text)"
   ]
  },
  {
   "cell_type": "code",
   "execution_count": 6,
   "metadata": {},
   "outputs": [
    {
     "data": {
      "image/png": "[encoded data removed]",
      "text/plain": [
       "<Figure size 400x400 with 1 Axes>"
      ]
     },
     "metadata": {},
     "output_type": "display_data"
    }
   ],
   "source": [
    "# Plot the distribution of sentiments in training data\n",
    "sentiment_counts = Counter(tweetgts['twitter-training-data.txt'])\n",
    "sentiments, counts = zip(*sentiment_counts.items())\n",
    "\n",
    "plt.figure(figsize = (4, 4))\n",
    "plt.bar(sentiments, counts, color = ['blue', 'red', 'green'])\n",
    "\n",
    "plt.title('Sentiment Distribution in the Dataset')\n",
    "plt.xlabel('Sentiment')\n",
    "plt.ylabel('Total Count')\n",
    "plt.show()"
   ]
  },
  {
   "cell_type": "markdown",
   "metadata": {},
   "source": [
    "#### Preprocessing"
   ]
  },
  {
   "cell_type": "code",
   "execution_count": 7,
   "metadata": {},
   "outputs": [],
   "source": [
    "# Define regex patterns for cleaning tweets\n",
    "patterns = [\n",
    "    re.compile(r'https?://\\S+'), # Remove URLs\n",
    "    re.compile(r'@\\w+'), # Remove @user mentions\n",
    "    re.compile(r'[^a-zA-Z0-9 ]'), # Remove all non-alphanumeric characters except spaces\n",
    "    re.compile(r'\\b\\w{1}\\b'), # Remove words with only 1 character\n",
    "    re.compile(r'\\b\\d+\\b'), # Remove numbers that are fully made of digits\n",
    "    re.compile(r'\\b(?=\\w*\\d)(?=\\w*[a-zA-Z])\\w+\\b') # Remove combination of digits and alphabets\n",
    "]\n",
    "\n",
    "# Function to clean tweets\n",
    "def clean_tweets(dataset_key, patterns):\n",
    "    cleaned_tweets = []\n",
    "    \n",
    "    for tweet in tweets[dataset_key]:\n",
    "        # Convert the tweet to lowercase\n",
    "        lower_tweet = tweet.lower() \n",
    "\n",
    "        # Replace emojis with description\n",
    "        lower_tweet_emoji_desc = demoji.replace_with_desc(lower_tweet, sep = \" \")\n",
    "\n",
    "        expanded_words = []\n",
    "        for word in lower_tweet_emoji_desc.split():\n",
    "            # Expand contractions\n",
    "            expanded_words.append(contractions.fix(word))\n",
    "        expanded_text = ' '.join(expanded_words)\n",
    "\n",
    "        # Apply each regex pattern\n",
    "        for pattern in patterns:\n",
    "            expanded_text = pattern.sub('', expanded_text)\n",
    "            \n",
    "        cleaned_tweets.append(expanded_text)\n",
    "        \n",
    "    return cleaned_tweets"
   ]
  },
  {
   "cell_type": "code",
   "execution_count": 8,
   "metadata": {},
   "outputs": [],
   "source": [
    "processed_tweets = {}\n",
    "dataset_keys = ['twitter-training-data.txt'] + ['twitter-dev-data.txt'] + testsets\n",
    "for dataset_key in dataset_keys:\n",
    "    processed_tweets[dataset_key] = clean_tweets(dataset_key, patterns)"
   ]
  },
  {
   "cell_type": "markdown",
   "metadata": {},
   "source": [
    "#### Tokenization and Lemmatization"
   ]
  },
  {
   "cell_type": "code",
   "execution_count": 9,
   "metadata": {},
   "outputs": [],
   "source": [
    "# Empty set for stop words\n",
    "stop_words = set([None])\n",
    "\n",
    "# Function to map NLTK's part-of-speech tags to wordnet's part-of-speech names\n",
    "def get_wordnet_pos(treebank_tag):\n",
    "    if treebank_tag.startswith('J'):\n",
    "        return wordnet.ADJ\n",
    "    elif treebank_tag.startswith('V'):\n",
    "        return wordnet.VERB\n",
    "    elif treebank_tag.startswith('N'):\n",
    "        return wordnet.NOUN\n",
    "    elif treebank_tag.startswith('R'):\n",
    "        return wordnet.ADV\n",
    "    else:\n",
    "        return wordnet.NOUN\n",
    "\n",
    "# Function to lemmatize a sentence\n",
    "def lemmatize_sentence(sentence, stop_words):\n",
    "    \n",
    "    lemmatizer = WordNetLemmatizer()\n",
    "    # Tokenize the sentence into words\n",
    "    word_tokens = word_tokenize(sentence)\n",
    "    # Get part-of-speech tags for each token\n",
    "    pos_tags = pos_tag(word_tokens)\n",
    "    \n",
    "    # Lemmatize each word with the appropriate POS tag, excluding stop words\n",
    "    lemmatized_words = [lemmatizer.lemmatize(word, get_wordnet_pos(pos)) for word, pos in pos_tags if word.lower() not in stop_words]\n",
    "    \n",
    "    return ' '.join(lemmatized_words), set(lemmatized_words)"
   ]
  },
  {
   "cell_type": "code",
   "execution_count": 10,
   "metadata": {},
   "outputs": [
    {
     "name": "stdout",
     "output_type": "stream",
     "text": [
      "CPU times: total: 1min 38s\n",
      "Wall time: 1min 38s\n"
     ]
    }
   ],
   "source": [
    "%%time\n",
    "\n",
    "lemmatized_tweets = {}\n",
    "all_words = Counter()\n",
    "\n",
    "training_dataset_key = 'twitter-training-data.txt'\n",
    "dev_dataset_key = 'twitter-dev-data.txt'\n",
    "dataset_keys = [training_dataset_key] + [dev_dataset_key] + testsets\n",
    "\n",
    "for dataset_key in dataset_keys:\n",
    "    lemmatized_texts = []\n",
    "    for tweet in processed_tweets[dataset_key]:\n",
    "        # Lemmatize tweet with returning both the lemmatized text and the set of unique lemmatized words\n",
    "        lemmatized_text, lemmatized_words = lemmatize_sentence(tweet, stop_words)\n",
    "        lemmatized_texts.append(lemmatized_text)\n",
    "        # If processing training dataset, update the word count with the lemmatized words from the tweet\n",
    "        if dataset_key == training_dataset_key:\n",
    "            all_words.update(lemmatized_words)\n",
    "    lemmatized_tweets[dataset_key] = lemmatized_texts"
   ]
  },
  {
   "cell_type": "markdown",
   "metadata": {},
   "source": [
    "#### Vectorize"
   ]
  },
  {
   "cell_type": "code",
   "execution_count": 11,
   "metadata": {},
   "outputs": [],
   "source": [
    "tfidf_vectorizer = TfidfVectorizer(\n",
    "    max_features = 5000,\n",
    "    min_df = 3\n",
    "    )\n",
    "\n",
    "X_train_tfidf = tfidf_vectorizer.fit_transform(lemmatized_tweets['twitter-training-data.txt'])\n",
    "X_tests_tfidf = {}\n",
    "for testset in testsets:\n",
    "    X_test_tfidf = tfidf_vectorizer.transform(lemmatized_tweets[testset])\n",
    "    X_tests_tfidf[testset] = X_test_tfidf"
   ]
  },
  {
   "cell_type": "code",
   "execution_count": 12,
   "metadata": {},
   "outputs": [],
   "source": [
    "bow_vectorizer = CountVectorizer()\n",
    "\n",
    "X_train_bow = bow_vectorizer.fit_transform(lemmatized_tweets['twitter-training-data.txt'])\n",
    "X_tests_bow = {}\n",
    "for testset in testsets:\n",
    "    X_test_bow = bow_vectorizer.transform(lemmatized_tweets[testset])\n",
    "    X_tests_bow[testset] = X_test_bow"
   ]
  },
  {
   "cell_type": "code",
   "execution_count": 13,
   "metadata": {},
   "outputs": [],
   "source": [
    "y_train = tweetgts['twitter-training-data.txt']\n",
    "y_tests = {}\n",
    "for testset in testsets:\n",
    "    y_test = tweetgts[testset]\n",
    "    y_tests[testset] = y_test"
   ]
  },
  {
   "cell_type": "markdown",
   "metadata": {},
   "source": [
    "#### SVM"
   ]
  },
  {
   "cell_type": "code",
   "execution_count": 14,
   "metadata": {},
   "outputs": [],
   "source": [
    "def svm_training(X_train, y_train, features):\n",
    "\n",
    "    if features == 'TFIDF':\n",
    "        svc = LinearSVC(C = 1)\n",
    "        svc.fit(X_train, y_train)\n",
    "    elif features == 'bow':\n",
    "        svc = LinearSVC(C = 1, max_iter = 5000)\n",
    "        svc.fit(X_train, y_train)\n",
    "    \n",
    "    return svc"
   ]
  },
  {
   "cell_type": "markdown",
   "metadata": {},
   "source": [
    "#### Naive Bayes"
   ]
  },
  {
   "cell_type": "code",
   "execution_count": 15,
   "metadata": {},
   "outputs": [],
   "source": [
    "def nb_training(X_train, y_train, features):\n",
    "\n",
    "    nb = MultinomialNB(alpha = 1)\n",
    "    nb.fit(X_train, y_train)\n",
    "    \n",
    "    return nb"
   ]
  },
  {
   "cell_type": "markdown",
   "metadata": {},
   "source": [
    "#### MaxEnt"
   ]
  },
  {
   "cell_type": "code",
   "execution_count": 16,
   "metadata": {},
   "outputs": [],
   "source": [
    "def maxEnt_training(X_train, y_train, features):\n",
    "\n",
    "    maxEnt = LogisticRegression(C = 1, max_iter = 1000)\n",
    "    maxEnt.fit(X_train, y_train)\n",
    "    \n",
    "    return maxEnt"
   ]
  },
  {
   "cell_type": "markdown",
   "metadata": {},
   "source": [
    "### LSTM"
   ]
  },
  {
   "cell_type": "markdown",
   "metadata": {},
   "source": [
    "#### Mapping words to GloVe word embedding"
   ]
  },
  {
   "cell_type": "code",
   "execution_count": 17,
   "metadata": {},
   "outputs": [],
   "source": [
    "# Build an index mapping words to their vector representation in GloVe word embeddings\n",
    "glove_folder_path = 'glove.6B'\n",
    "glove_file_path = join(glove_folder_path, 'glove.6B.100d.txt')\n",
    "\n",
    "embedding_index = {}\n",
    "with open(glove_file_path, 'r', encoding = 'utf-8') as f:\n",
    "    for line in f:\n",
    "        values = line.split()\n",
    "        word = values[0]\n",
    "        coefs = np.asarray(values[1:], dtype = 'float32')\n",
    "        embedding_index[word] = coefs"
   ]
  },
  {
   "cell_type": "code",
   "execution_count": 18,
   "metadata": {},
   "outputs": [],
   "source": [
    "embedding_dim = 100\n",
    "max_words = 5000\n",
    "# Initialize the embedding matrix with zeros and shape of max_words x embedding_dim\n",
    "embedding_matrix = np.zeros((max_words, embedding_dim))\n",
    "\n",
    "words_not_found = 0\n",
    "\n",
    "word_index = {}\n",
    "\n",
    "# Iterate over words sorted by their frequency (most common first)\n",
    "# Assign a unique index to words only found in the embedding index\n",
    "# Then retrieve and assign the corresponding embedding vector to those words\n",
    "for word, _ in all_words.most_common():\n",
    "    if len(word_index) < 4998:\n",
    "        if word in embedding_index:\n",
    "            # Assign the next index to the word\n",
    "            word_index[word] = len(word_index) + 1\n",
    "            # Add the embedding vector to the matrix\n",
    "            embedding_matrix[len(word_index)] = embedding_index[word]\n",
    "    else:\n",
    "        break\n",
    "\n",
    "unk_index = len(word_index) + 1\n",
    "# Add the <UNK> token to the word index\n",
    "word_index['<UNK>'] = unk_index\n",
    "# Set <UNK> to a zero vector\n",
    "embedding_matrix[unk_index] = np.zeros((embedding_dim,))  "
   ]
  },
  {
   "cell_type": "code",
   "execution_count": 19,
   "metadata": {},
   "outputs": [
    {
     "name": "stdout",
     "output_type": "stream",
     "text": [
      "Choosing a max_length of 25 will cover 95% of the tweets.\n"
     ]
    }
   ],
   "source": [
    "# Calculate the length of each tweet in the 'twitter-training-data.txt' dataset after lemmatization\n",
    "lengths = [len(word_tokenize(tweet)) for tweet in lemmatized_tweets['twitter-training-data.txt']]\n",
    "\n",
    "# Calculate the 95th percentile of these lengths to determine a cutoff point that includes 95% of the tweets\n",
    "percentile_95 = np.percentile(lengths, 95)\n",
    "max_length = int(np.ceil(percentile_95))\n",
    "print(f\"Choosing a max_length of {max_length} will cover 95% of the tweets.\")"
   ]
  },
  {
   "cell_type": "code",
   "execution_count": 20,
   "metadata": {},
   "outputs": [],
   "source": [
    "# Function to convert tweets to sequences\n",
    "def tweets_to_sequences(tweets, word_index):\n",
    "    sequences = []\n",
    "    unk_token = \"<UNK>\"\n",
    "    \n",
    "    for tweet in tweets:\n",
    "        words = tweet.split()\n",
    "        \n",
    "        # Convert each word to its index if present in `word_index`; use `<UNK>` index otherwise\n",
    "        sequence = [word_index.get(word, word_index.get(unk_token, 0)) for word in words]\n",
    "        \n",
    "        sequences.append(sequence)\n",
    "    \n",
    "    return sequences\n",
    "\n",
    "sequences_tweets_training = tweets_to_sequences(lemmatized_tweets['twitter-training-data.txt'], word_index)\n",
    "sequences_tweets_validation  = tweets_to_sequences(lemmatized_tweets['twitter-dev-data.txt'], word_index)\n",
    "sequences_tweets_tests = {}\n",
    "for testset in testsets:\n",
    "    sequences = tweets_to_sequences(lemmatized_tweets[testset], word_index)\n",
    "    sequences_tweets_tests[testset] = sequences"
   ]
  },
  {
   "cell_type": "code",
   "execution_count": 21,
   "metadata": {},
   "outputs": [],
   "source": [
    "# PyTorch class tailored for handling sequences of tweets\n",
    "class TweetDataset(Dataset):\n",
    "\n",
    "    def __init__(self, sequences, labels):\n",
    "        self.sequences = sequences\n",
    "        self.labels = labels\n",
    "        \n",
    "    def __len__(self):\n",
    "        return len(self.sequences)\n",
    "    \n",
    "    def __getitem__(self, idx):\n",
    "        sequence = torch.tensor(self.sequences[idx], dtype = torch.long)\n",
    "        label = torch.tensor(self.labels[idx], dtype = torch.long)\n",
    "        return sequence, label"
   ]
  },
  {
   "cell_type": "code",
   "execution_count": 22,
   "metadata": {},
   "outputs": [],
   "source": [
    "# Parameters of LSTM training\n",
    "embedding_dim = 100\n",
    "hidden_dim = 1024\n",
    "learning_rate = 0.001\n",
    "batch_size = 64\n",
    "num_epochs = 100\n",
    "dropout = 0.4"
   ]
  },
  {
   "cell_type": "code",
   "execution_count": 23,
   "metadata": {},
   "outputs": [],
   "source": [
    "# Preparing training, validation, and test datasets \n",
    "\n",
    "# Mapping textual sentiment labels to numerical labels\n",
    "sentiment_label_mapping = {'negative': 0, 'neutral': 1, 'positive': 2}\n",
    "\n",
    "# Training\n",
    "X_train = pad_sequences(sequences_tweets_training, maxlen = max_length)\n",
    "y_train = tweetgts['twitter-training-data.txt']\n",
    "y_train_numerical = [sentiment_label_mapping[label] for label in y_train]\n",
    "training_dataset = TweetDataset(X_train, y_train_numerical)\n",
    "training_dataloader = DataLoader(training_dataset, batch_size = batch_size, shuffle = True)\n",
    "\n",
    "# Validation\n",
    "X_validation = pad_sequences(sequences_tweets_validation, maxlen = max_length)\n",
    "y_validation = tweetgts['twitter-dev-data.txt']\n",
    "y_validation_numerical = [sentiment_label_mapping[label] for label in y_validation]\n",
    "validation_dataset = TweetDataset(X_validation, y_validation_numerical)\n",
    "validation_dataloader = DataLoader(validation_dataset, batch_size = batch_size, shuffle = False)\n",
    "\n",
    "# Testing\n",
    "testing_dataloaders = {}\n",
    "for testset in testsets:\n",
    "    X_test = pad_sequences(sequences_tweets_tests[testset], maxlen = max_length)\n",
    "    y_test = tweetgts[testset]\n",
    "    y_test_numerical = [sentiment_label_mapping[label] for label in y_test]\n",
    "    testing_dataset = TweetDataset(X_test, y_test_numerical)\n",
    "    testing_dataloader = DataLoader(testing_dataset, batch_size = batch_size, shuffle = False)\n",
    "    testing_dataloaders[testset] = testing_dataloader"
   ]
  },
  {
   "cell_type": "code",
   "execution_count": 24,
   "metadata": {},
   "outputs": [],
   "source": [
    "# Define the Attention layer in LSTM model\n",
    "class Attention(nn.Module):\n",
    "    def __init__(self, hidden_dim):\n",
    "        super(Attention, self).__init__()\n",
    "        self.hidden_dim = hidden_dim\n",
    "        self.linear = nn.Linear(hidden_dim * 2, 1)\n",
    "    \n",
    "    def forward(self, lstm_output):\n",
    "        attention_scores = self.linear(lstm_output).squeeze(2)\n",
    "        # Apply softmax to attention scores\n",
    "        attention_weights = torch.softmax(attention_scores, dim = 1).unsqueeze(2)    \n",
    "        context_vector = torch.sum(attention_weights * lstm_output, dim = 1)\n",
    "        return context_vector, attention_weights\n",
    "\n",
    "# Define the LSTM model\n",
    "class SentimentLSTM(nn.Module):\n",
    "    def __init__(self, max_words, embedding_dim, hidden_dim, embedding_matrix, num_classes = 3, dropout_rate = dropout):\n",
    "        super(SentimentLSTM, self).__init__()\n",
    "        self.embedding = nn.Embedding(max_words, embedding_dim)\n",
    "        self.embedding.weight = nn.Parameter(torch.tensor(embedding_matrix, dtype = torch.float32))\n",
    "        self.embedding.weight.requires_grad = False # Freeze the embedding layer\n",
    "        self.dropout = nn.Dropout(dropout_rate)\n",
    "        \n",
    "        self.lstm = nn.LSTM(embedding_dim, hidden_dim, batch_first = True, bidirectional = True) #bidirectional LSTM\n",
    "        self.attention = Attention(hidden_dim)\n",
    "        self.classifier = nn.Linear(hidden_dim * 2, num_classes)\n",
    "        \n",
    "    def forward(self, x):\n",
    "        embedded = self.embedding(x)\n",
    "        embedded = self.dropout(embedded)\n",
    "        lstm_out, (hidden, cell) = self.lstm(embedded)\n",
    "        hidden = torch.cat((hidden[-2,:,:], hidden[-1,:,:]), dim = 1)\n",
    "        context_vector, attention_weights = self.attention(lstm_out)\n",
    "        context_vector = self.dropout(context_vector)\n",
    "        output = self.classifier(context_vector)\n",
    "        return output\n",
    "\n",
    "# Initialize the model\n",
    "lstm_model = SentimentLSTM(\n",
    "    max_words=max_words, \n",
    "    embedding_dim=embedding_dim, \n",
    "    hidden_dim=hidden_dim, \n",
    "    embedding_matrix=embedding_matrix\n",
    ").to(device)\n",
    "\n",
    "# Define the loss criterion as CrossEntropyLoss\n",
    "criterion = nn.CrossEntropyLoss()\n",
    "# Define the optimizer as Adam with L2 regularization\n",
    "optimizer = optim.Adam(lstm_model.parameters(), lr = learning_rate, weight_decay = 1e-5)"
   ]
  },
  {
   "cell_type": "code",
   "execution_count": 25,
   "metadata": {},
   "outputs": [
    {
     "name": "stderr",
     "output_type": "stream",
     "text": [
      "                                                                                                                       \r"
     ]
    },
    {
     "name": "stdout",
     "output_type": "stream",
     "text": [
      "Epoch 1, Train Loss: 0.8841, Val Loss: 0.8118\n"
     ]
    },
    {
     "name": "stderr",
     "output_type": "stream",
     "text": [
      "                                                                                                                       \r"
     ]
    },
    {
     "name": "stdout",
     "output_type": "stream",
     "text": [
      "Epoch 2, Train Loss: 0.8404, Val Loss: 0.7893\n"
     ]
    },
    {
     "name": "stderr",
     "output_type": "stream",
     "text": [
      "                                                                                                                       \r"
     ]
    },
    {
     "name": "stdout",
     "output_type": "stream",
     "text": [
      "Epoch 3, Train Loss: 0.8241, Val Loss: 0.7803\n"
     ]
    },
    {
     "name": "stderr",
     "output_type": "stream",
     "text": [
      "                                                                                                                       \r"
     ]
    },
    {
     "name": "stdout",
     "output_type": "stream",
     "text": [
      "Epoch 4, Train Loss: 0.8095, Val Loss: 0.7696\n"
     ]
    },
    {
     "name": "stderr",
     "output_type": "stream",
     "text": [
      "                                                                                                                       \r"
     ]
    },
    {
     "name": "stdout",
     "output_type": "stream",
     "text": [
      "Epoch 5, Train Loss: 0.7940, Val Loss: 0.7639\n"
     ]
    },
    {
     "name": "stderr",
     "output_type": "stream",
     "text": [
      "                                                                                                                       \r"
     ]
    },
    {
     "name": "stdout",
     "output_type": "stream",
     "text": [
      "Epoch 6, Train Loss: 0.7775, Val Loss: 0.7410\n"
     ]
    },
    {
     "name": "stderr",
     "output_type": "stream",
     "text": [
      "                                                                                                                       \r"
     ]
    },
    {
     "name": "stdout",
     "output_type": "stream",
     "text": [
      "Epoch 7, Train Loss: 0.7637, Val Loss: 0.7390\n"
     ]
    },
    {
     "name": "stderr",
     "output_type": "stream",
     "text": [
      "                                                                                                                       \r"
     ]
    },
    {
     "name": "stdout",
     "output_type": "stream",
     "text": [
      "Epoch 8, Train Loss: 0.7524, Val Loss: 0.7314\n"
     ]
    },
    {
     "name": "stderr",
     "output_type": "stream",
     "text": [
      "                                                                                                                       \r"
     ]
    },
    {
     "name": "stdout",
     "output_type": "stream",
     "text": [
      "Epoch 9, Train Loss: 0.7420, Val Loss: 0.7393\n"
     ]
    },
    {
     "name": "stderr",
     "output_type": "stream",
     "text": [
      "                                                                                                                       \r"
     ]
    },
    {
     "name": "stdout",
     "output_type": "stream",
     "text": [
      "Epoch 10, Train Loss: 0.7292, Val Loss: 0.7169\n"
     ]
    },
    {
     "name": "stderr",
     "output_type": "stream",
     "text": [
      "                                                                                                                       \r"
     ]
    },
    {
     "name": "stdout",
     "output_type": "stream",
     "text": [
      "Epoch 11, Train Loss: 0.7232, Val Loss: 0.7240\n"
     ]
    },
    {
     "name": "stderr",
     "output_type": "stream",
     "text": [
      "                                                                                                                       \r"
     ]
    },
    {
     "name": "stdout",
     "output_type": "stream",
     "text": [
      "Epoch 12, Train Loss: 0.7116, Val Loss: 0.7151\n"
     ]
    },
    {
     "name": "stderr",
     "output_type": "stream",
     "text": [
      "                                                                                                                       \r"
     ]
    },
    {
     "name": "stdout",
     "output_type": "stream",
     "text": [
      "Epoch 13, Train Loss: 0.7018, Val Loss: 0.7110\n"
     ]
    },
    {
     "name": "stderr",
     "output_type": "stream",
     "text": [
      "                                                                                                                       \r"
     ]
    },
    {
     "name": "stdout",
     "output_type": "stream",
     "text": [
      "Epoch 14, Train Loss: 0.6935, Val Loss: 0.7159\n"
     ]
    },
    {
     "name": "stderr",
     "output_type": "stream",
     "text": [
      "                                                                                                                       \r"
     ]
    },
    {
     "name": "stdout",
     "output_type": "stream",
     "text": [
      "Epoch 15, Train Loss: 0.6819, Val Loss: 0.7075\n"
     ]
    },
    {
     "name": "stderr",
     "output_type": "stream",
     "text": [
      "                                                                                                                       \r"
     ]
    },
    {
     "name": "stdout",
     "output_type": "stream",
     "text": [
      "Epoch 16, Train Loss: 0.6723, Val Loss: 0.7180\n"
     ]
    },
    {
     "name": "stderr",
     "output_type": "stream",
     "text": [
      "                                                                                                                       \r"
     ]
    },
    {
     "name": "stdout",
     "output_type": "stream",
     "text": [
      "Epoch 17, Train Loss: 0.6600, Val Loss: 0.7122\n",
      "Triggered early stopping.\n"
     ]
    }
   ],
   "source": [
    "# Early Stopping Parameters\n",
    "early_stopping_patience = 2\n",
    "early_stopping_counter = 0\n",
    "best_val_loss = float('inf')\n",
    "\n",
    "train_losses = []\n",
    "val_losses = []\n",
    "\n",
    "# Training and Validation Loop\n",
    "for epoch in range(num_epochs):\n",
    "    \n",
    "    # Training part\n",
    "    lstm_model.train()\n",
    "    train_loss = 0.0\n",
    "    for tweets_text, sentiments in tqdm(training_dataloader, desc=f'Epoch {epoch+1}', leave=False):\n",
    "        tweets_text = tweets_text.to(device).long()\n",
    "        sentiments = sentiments.to(device).long()\n",
    "        \n",
    "        optimizer.zero_grad()\n",
    "        outputs = lstm_model(tweets_text.long())\n",
    "        loss = criterion(outputs, sentiments)\n",
    "        loss.backward()\n",
    "        optimizer.step()\n",
    "        train_loss += loss.item()\n",
    "    \n",
    "    # Validation\n",
    "    lstm_model.eval()\n",
    "    val_loss = 0.0\n",
    "\n",
    "    with torch.no_grad():\n",
    "        for tweets_text, sentiments in validation_dataloader:\n",
    "            tweets_text = tweets_text.to(device).long()\n",
    "            sentiments = sentiments.to(device).long()\n",
    "            \n",
    "            outputs = lstm_model(tweets_text.long())\n",
    "            loss = criterion(outputs, sentiments)\n",
    "            val_loss += loss.item()\n",
    "    \n",
    "    # Calculate losses\n",
    "    train_loss /= len(training_dataloader)\n",
    "    val_loss /= len(validation_dataloader)\n",
    "    train_losses.append(train_loss)\n",
    "    val_losses.append(val_loss)\n",
    "    \n",
    "    print(f'Epoch {epoch+1}, Train Loss: {train_loss:.4f}, Val Loss: {val_loss:.4f}')\n",
    "    \n",
    "    # Early Stopping Check\n",
    "    if val_loss < best_val_loss:\n",
    "        best_val_loss = val_loss\n",
    "        early_stopping_counter = 0\n",
    "        torch.save(lstm_model.state_dict(), 'best_model.pth')  # Save the best model\n",
    "    else:\n",
    "        early_stopping_counter += 1\n",
    "        if early_stopping_counter >= early_stopping_patience:\n",
    "            print(\"Triggered early stopping.\")\n",
    "            break"
   ]
  },
  {
   "cell_type": "code",
   "execution_count": 26,
   "metadata": {},
   "outputs": [
    {
     "data": {
      "image/png": "[encoded data removed]",
      "text/plain": [
       "<Figure size 1000x800 with 1 Axes>"
      ]
     },
     "metadata": {},
     "output_type": "display_data"
    }
   ],
   "source": [
    "# Plotting the training and validation losses\n",
    "plt.figure(figsize = (10, 8))\n",
    "plt.plot(train_losses, label = 'Training Loss')\n",
    "plt.plot(val_losses, label = 'Validation Loss')\n",
    "plt.title('Training and Validation Losses')\n",
    "plt.xlabel('Epochs')\n",
    "plt.ylabel('Loss')\n",
    "plt.legend()\n",
    "plt.grid(True)\n",
    "plt.show()"
   ]
  },
  {
   "cell_type": "code",
   "execution_count": 39,
   "metadata": {},
   "outputs": [
    {
     "name": "stdout",
     "output_type": "stream",
     "text": [
      "semeval-tweets\\twitter-test1.txt (GloVe Embeddings-LSTM): 0.636\n",
      "            positive  negative  neutral\n",
      "positive    0.777     0.040     0.182     \n",
      "negative    0.124     0.773     0.102     \n",
      "neutral     0.242     0.130     0.628     \n",
      "\n",
      "semeval-tweets\\twitter-test2.txt (GloVe Embeddings-LSTM): 0.642\n",
      "            positive  negative  neutral\n",
      "positive    0.820     0.028     0.152     \n",
      "negative    0.096     0.798     0.106     \n",
      "neutral     0.327     0.102     0.570     \n",
      "\n",
      "semeval-tweets\\twitter-test3.txt (GloVe Embeddings-LSTM): 0.574\n",
      "            positive  negative  neutral\n",
      "positive    0.780     0.042     0.178     \n",
      "negative    0.163     0.588     0.249     \n",
      "neutral     0.293     0.132     0.575     \n",
      "\n"
     ]
    }
   ],
   "source": [
    "# Evaluates the model's performance on a given dataset\n",
    "def evaluate_model(dataloader, tweet_ids):\n",
    "    lstm_model.eval()\n",
    "    true_sentiments = []\n",
    "    predicted_sentiments = []\n",
    "\n",
    "    with torch.no_grad():\n",
    "        for tweets, sentiments in dataloader:\n",
    "            tweets = tweets.to(device).long()\n",
    "            sentiments = sentiments.to(device).long()\n",
    "            outputs = lstm_model(tweets)\n",
    "            predictions = torch.argmax(outputs, dim = 1)\n",
    "            \n",
    "            true_sentiments.extend(sentiments.cpu().numpy())\n",
    "            predicted_sentiments.extend(predictions.cpu().numpy())\n",
    "\n",
    "    # Mapping from numerical labels back to textual sentiment labels\n",
    "    sentiment_labels = {0: 'negative', 1: 'neutral', 2: 'positive'}\n",
    "    predicted_labels = [sentiment_labels[predict] for predict in predicted_sentiments]\n",
    "    \n",
    "    id_preds = dict(zip(tweetids[tweet_ids], predicted_labels))\n",
    "\n",
    "    testset_path = join('semeval-tweets', tweet_ids)\n",
    "\n",
    "    features = 'GloVe Embeddings'\n",
    "    classifier = 'LSTM'\n",
    "    \n",
    "    # Call the evaluate function\n",
    "    evaluate(id_preds, testset_path, features + '-' + classifier)\n",
    "    confusion(id_preds, tweet_ids, features + '-' + classifier)\n",
    "\n",
    "for testset, dataloader in testing_dataloaders.items():\n",
    "     evaluate_model(dataloader, testset)"
   ]
  },
  {
   "cell_type": "markdown",
   "metadata": {},
   "source": [
    "#### Build sentiment classifiers\n",
    "You need to create your own classifiers (at least 3 classifiers). For each classifier, you can choose between the bag-of-word features and the word-embedding-based features. Each classifier has to be evaluated over 3 test sets. Make sure your classifier produce consistent performance across the test sets. Marking will be based on the performance over all 5 test sets (2 of them are not provided to you)."
   ]
  },
  {
   "cell_type": "code",
   "execution_count": 28,
   "metadata": {},
   "outputs": [],
   "source": [
    "# Build the id_preds needed for function evaluate()\n",
    "def train_and_predict(model_training, features, testset):\n",
    "\n",
    "    X_train = None\n",
    "    X_test = None\n",
    "    \n",
    "    if features == 'TFIDF':\n",
    "        X_train = X_train_tfidf\n",
    "        X_test = X_tests_tfidf[testset]\n",
    "    elif features == 'bow':\n",
    "        X_train = X_train_bow\n",
    "        X_test = X_tests_bow[testset]\n",
    "\n",
    "    model = model_training(X_train, y_train, features)\n",
    "    \n",
    "    tweet_ids = tweetids[testset]\n",
    "    \n",
    "    # Generate predictions\n",
    "    predictions = model.predict(X_test)\n",
    "    \n",
    "    # Map predictions to tweet IDs\n",
    "    id_preds = dict(zip(tweet_ids, predictions))\n",
    "    \n",
    "    return id_preds"
   ]
  },
  {
   "cell_type": "code",
   "execution_count": 29,
   "metadata": {},
   "outputs": [
    {
     "name": "stdout",
     "output_type": "stream",
     "text": [
      "Training svm\n",
      "semeval-tweets\\twitter-test1.txt (bow-svm): 0.535\n",
      "semeval-tweets\\twitter-test2.txt (bow-svm): 0.564\n",
      "semeval-tweets\\twitter-test3.txt (bow-svm): 0.503\n",
      "Training svm\n",
      "semeval-tweets\\twitter-test1.txt (TFIDF-svm): 0.581\n",
      "semeval-tweets\\twitter-test2.txt (TFIDF-svm): 0.602\n",
      "semeval-tweets\\twitter-test3.txt (TFIDF-svm): 0.542\n",
      "Training nb\n",
      "semeval-tweets\\twitter-test1.txt (bow-nb): 0.496\n",
      "semeval-tweets\\twitter-test2.txt (bow-nb): 0.461\n",
      "semeval-tweets\\twitter-test3.txt (bow-nb): 0.496\n",
      "Training nb\n",
      "semeval-tweets\\twitter-test1.txt (TFIDF-nb): 0.400\n",
      "semeval-tweets\\twitter-test2.txt (TFIDF-nb): 0.431\n",
      "semeval-tweets\\twitter-test3.txt (TFIDF-nb): 0.401\n",
      "Training MaxEnt\n",
      "semeval-tweets\\twitter-test1.txt (bow-MaxEnt): 0.574\n",
      "semeval-tweets\\twitter-test2.txt (bow-MaxEnt): 0.573\n",
      "semeval-tweets\\twitter-test3.txt (bow-MaxEnt): 0.536\n",
      "Training MaxEnt\n",
      "semeval-tweets\\twitter-test1.txt (TFIDF-MaxEnt): 0.571\n",
      "semeval-tweets\\twitter-test2.txt (TFIDF-MaxEnt): 0.581\n",
      "semeval-tweets\\twitter-test3.txt (TFIDF-MaxEnt): 0.532\n"
     ]
    }
   ],
   "source": [
    "# Buid traditional sentiment classifiers. An example classifier name 'svm' is given\n",
    "# in the code below. You should replace the other two classifier names\n",
    "# with your own choices. For features used for classifier training, \n",
    "# the 'bow' feature is given in the code. But you could also explore the \n",
    "# use of other features.\n",
    "for classifier in ['svm', 'nb', 'MaxEnt']:\n",
    "    for features in ['bow', 'TFIDF']:\n",
    "        # Skeleton: Creation and training of the classifiers\n",
    "        if classifier == 'svm':\n",
    "\n",
    "            model = svm_training\n",
    "            \n",
    "            print('Training ' + classifier)\n",
    "            \n",
    "        elif classifier == 'nb':\n",
    "\n",
    "            model = nb_training\n",
    "            \n",
    "            print('Training ' + classifier)\n",
    "        elif classifier == 'MaxEnt':\n",
    "            # write the classifier 3 here\n",
    "\n",
    "            model = maxEnt_training\n",
    "            \n",
    "            print('Training ' + classifier)\n",
    "        # elif classifier == 'LSTM':\n",
    "        #     # write the LSTM classifier here\n",
    "        #     if features == 'bow':\n",
    "        #         continue\n",
    "        #     print('Training ' + classifier)\n",
    "        else:\n",
    "            print('Unknown classifier name' + classifier)\n",
    "            continue\n",
    "\n",
    "        # Predition performance of the classifiers\n",
    "        for testset in testsets:\n",
    "            id_preds = {}\n",
    "            # write the prediction and evaluation code here\n",
    "            id_preds = train_and_predict(model, features, testset)\n",
    "            #confusion(id_preds, testset, classifier)\n",
    "\n",
    "            testset_name = testset\n",
    "            testset_path = join('semeval-tweets', testset_name)\n",
    "            evaluate(id_preds, testset_path, features + '-' + classifier)"
   ]
  },
  {
   "cell_type": "code",
   "execution_count": 30,
   "metadata": {},
   "outputs": [
    {
     "name": "stderr",
     "output_type": "stream",
     "text": [
      "Processing twitter-test1.txt: 100%|████████████████████████████████████████████████| 3531/3531 [27:55<00:00,  2.11it/s]\n"
     ]
    },
    {
     "name": "stdout",
     "output_type": "stream",
     "text": [
      "Finished writing labels to BART-twitter-test1.txt.\n"
     ]
    },
    {
     "name": "stderr",
     "output_type": "stream",
     "text": [
      "Processing twitter-test2.txt: 100%|████████████████████████████████████████████████| 1853/1853 [14:09<00:00,  2.18it/s]\n"
     ]
    },
    {
     "name": "stdout",
     "output_type": "stream",
     "text": [
      "Finished writing labels to BART-twitter-test2.txt.\n"
     ]
    },
    {
     "name": "stderr",
     "output_type": "stream",
     "text": [
      "Processing twitter-test3.txt: 100%|████████████████████████████████████████████████| 2379/2379 [17:53<00:00,  2.22it/s]"
     ]
    },
    {
     "name": "stdout",
     "output_type": "stream",
     "text": [
      "Finished writing labels to BART-twitter-test3.txt.\n"
     ]
    },
    {
     "name": "stderr",
     "output_type": "stream",
     "text": [
      "\n"
     ]
    }
   ],
   "source": [
    "def classify_tweets(test_file):\n",
    "    # Use bart-large model with trained on the MultiNLI (MNLI) dataset\n",
    "    classifier = pipeline(\"zero-shot-classification\", model = \"facebook/bart-large-mnli\")\n",
    "    candidate_labels = [\"positive\", \"negative\", \"neutral\"]\n",
    "\n",
    "    text = tweets[test_file]\n",
    "    max_labels = []\n",
    "\n",
    "    for tweet in tqdm(text, desc = f\"Processing {test_file}\"):\n",
    "        result = classifier(tweet, candidate_labels)\n",
    "        max_label = max(zip(result['labels'], result['scores']), key=lambda pair: pair[1])[0]\n",
    "        max_labels.append(max_label)\n",
    "\n",
    "    # Writing results to a file\n",
    "    output_file = f'BART-{test_file}'\n",
    "    with open(output_file, 'w') as f:\n",
    "        for label in max_labels:\n",
    "            f.write(f\"{label}\\n\")\n",
    "\n",
    "    print(f\"Finished writing labels to {output_file}.\")\n",
    "\n",
    "classify_tweets('twitter-test1.txt')\n",
    "classify_tweets('twitter-test2.txt')\n",
    "classify_tweets('twitter-test3.txt')"
   ]
  },
  {
   "cell_type": "code",
   "execution_count": 37,
   "metadata": {},
   "outputs": [
    {
     "name": "stdout",
     "output_type": "stream",
     "text": [
      "semeval-tweets\\twitter-test1.txt (BART): 0.620\n",
      "semeval-tweets\\twitter-test2.txt (BART): 0.635\n",
      "semeval-tweets\\twitter-test3.txt (BART): 0.600\n"
     ]
    }
   ],
   "source": [
    "#  Evaluate BART model predictions \n",
    "def evaluate_bart_results(test_file):\n",
    "\n",
    "    BART_preds = []\n",
    "    bart_file = f'BART-{test_file}'\n",
    "\n",
    "    with open(bart_file, 'r') as file:\n",
    "        for line in file:\n",
    "            prediction = line.strip()\n",
    "            BART_preds.append(prediction)\n",
    "\n",
    "    id_preds = dict(zip(tweetids[test_file], BART_preds))\n",
    "    evaluate(id_preds, join('semeval-tweets', test_file), 'BART')\n",
    "\n",
    "evaluate_bart_results('twitter-test1.txt')\n",
    "evaluate_bart_results('twitter-test2.txt')\n",
    "evaluate_bart_results('twitter-test3.txt')"
   ]
  }
 ],
 "metadata": {
  "kernelspec": {
   "display_name": "Python 3 (ipykernel)",
   "language": "python",
   "name": "python3"
  },
  "language_info": {
   "codemirror_mode": {
    "name": "ipython",
    "version": 3
   },
   "file_extension": ".py",
   "mimetype": "text/x-python",
   "name": "python",
   "nbconvert_exporter": "python",
   "pygments_lexer": "ipython3",
   "version": "3.10.9"
  }
 },
 "nbformat": 4,
 "nbformat_minor": 4
}
